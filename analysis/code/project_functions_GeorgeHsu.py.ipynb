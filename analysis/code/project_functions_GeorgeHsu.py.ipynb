{
 "cells": [
  {
   "cell_type": "code",
   "execution_count": null,
   "id": "66c1480f",
   "metadata": {},
   "outputs": [],
   "source": [
    "import pandas as pd\n",
    "import numpy as np\n",
    "import matplotlib.pylab as plt\n",
    "import seaborn as sns\n",
    "\n",
    "\n",
    "def load_and_process():\n",
    "    \n",
    "    df = (\n",
    "        pd.read_csv('/Users/georgehsu/project-group-group-57/data/raw/MutualFunds.csv')\n",
    "        .assign(Standard_Deviation=lambda x: x.iloc[:, 56:67].std(axis=1, numeric_only=True),\n",
    "                Mean=lambda x: x.iloc[:, 56:67].mean(axis=1, numeric_only=True),\n",
    "                fund_sector_differentiation=lambda x: np.where(x['Mean'] < 0.29697 , 'Low', \n",
    "                                                               np.where(x['Mean'] > 0.10640, 'High', \n",
    "                                                                        'Moderate')))\n",
    "        .loc[:, ['fund_symbol', 'fund_return_2021_q2', 'fund_return_2021_q1', 'fund_return_2020_q4', \n",
    "                  'fund_return_2020_q3', 'fund_return_2020_q2', 'category_return_2020', 'fund_return_2020']]\n",
    "        .dropna()\n",
    "        \n",
    "    )\n",
    "    \n",
    "    return df"
   ]
  }
 ],
 "metadata": {
  "kernelspec": {
   "display_name": "Python 3 (ipykernel)",
   "language": "python",
   "name": "python3"
  }
 },
 "nbformat": 4,
 "nbformat_minor": 5
}
